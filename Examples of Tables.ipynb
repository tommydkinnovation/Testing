{
 "cells": [
  {
   "cell_type": "markdown",
   "metadata": {},
   "source": [
    "<a name=\"top\"></a>\n",
    "# Examples of Tables"
   ]
  },
  {
   "cell_type": "markdown",
   "metadata": {},
   "source": [
    "## Table of Content\n",
    "\n",
    "1. [Tabel 1 - No Alignment](#table1) <br>\n",
    "2. [Tabel 2 - Center Alignment](#table2) <br>\n",
    "3. [Tabel 3 - Left Alignment](#table3) <br>\n",
    "4. [Tabel 4 - Right Alignment](#table4) <br>\n",
    "5. [Table 5 - HTML Styling](#table5) <br>"
   ]
  },
  {
   "cell_type": "markdown",
   "metadata": {},
   "source": [
    "<a id='table1'></a>\n",
    "### Tabel 1 - No Alignment\n",
    "\n",
    "|Sections |No of Functions |Brief Descriptions |\n",
    "|-|-|-|\n",
    "Random Sample Data | 10 functions |Random data computations on specified arrays\n",
    "Permutations | 2 functions | Alters the sequence of generated outputs within arrays\n",
    "Distributions |35 functions |Determines the occurance of variables accross defined parameters within arrays\n",
    "Random Generator | 4 functions | Determining the probability of occurance within arrays"
   ]
  },
  {
   "cell_type": "markdown",
   "metadata": {},
   "source": [
    "<a id='table2'></a>\n",
    "### Tabel 2 - Center Alignment\n",
    "\n",
    "|Sections |No of Functions |Brief Descriptions |\n",
    "|:-:|:-:|:-:|\n",
    "|Random Sample Data | 10 functions |Random data computations on specified arrays\n",
    "|Permutations | 2 functions | Alters the sequence of generated outputs within arrays\n",
    "|Distributions |35 functions |Determines the occurance of variables accross defined parameters within arrays\n",
    "|Random Generator | 4 functions | Determining the probability of occurance within arrays"
   ]
  },
  {
   "cell_type": "markdown",
   "metadata": {},
   "source": [
    "<a id='table3'></a>\n",
    "### Tabel 3 - Left Alignment\n",
    "\n",
    "|Sections |No of Functions |Brief Descriptions |\n",
    "|:-|:-|:-\n",
    "|Random Sample Data | 10 functions |Random data computations on specified arrays\n",
    "|Permutations | 2 functions | Alters the sequence of generated outputs within arrays\n",
    "|Distributions |35 functions |Determines the occurance of variables accross defined parameters within arrays\n",
    "|Random Generator | 4 functions | Determining the probability of occurance within arrays"
   ]
  },
  {
   "cell_type": "markdown",
   "metadata": {},
   "source": [
    "<a id='table4'></a>\n",
    "### Tabel 4 - Right Alignment\n",
    "\n",
    "|Sections |No of Functions |Brief Descriptions |\n",
    "|-:|-:|-:\n",
    "|Random Sample Data | 10 functions |Random data computations on specified arrays\n",
    "|Permutations | 2 functions | Alters the sequence of generated outputs within arrays\n",
    "|Distributions |35 functions |Determines the occurance of variables accross defined parameters within arrays\n",
    "|Random Generator | 4 functions | Determining the probability of occurance within arrays"
   ]
  },
  {
   "cell_type": "markdown",
   "metadata": {},
   "source": [
    "<a id='table5'></a>\n",
    "### Table 5 - HTML Styling"
   ]
  },
  {
   "cell_type": "code",
   "execution_count": 10,
   "metadata": {},
   "outputs": [
    {
     "data": {
      "text/html": [
       "<table>\n",
       "  <tr>\n",
       "    <th>Sections </th>\n",
       "    <th>No of Functions </th>\n",
       "    <th>Brief Descriptions </th>\n",
       "  </tr>\n",
       "  <tr>\n",
       "    <td >Random Sample Data </td>\n",
       "    <td>10 functions</td>\n",
       "    <td>Random data computations on specified arrays</td>\n",
       "  </tr>\n",
       "  <tr>\n",
       "    <td>Permutations</td>\n",
       "    <td>2 functions</td>\n",
       "    <td>Alters the sequence of generated outputs within arrays</td>\n",
       "  </tr>\n",
       "  <tr>\n",
       "    <td>Distributions</td>\n",
       "    <td>35 functions</td>\n",
       "    <td>Determines the occurance of variables accross defined parameters within arrays</td>\n",
       "  </tr>\n",
       "  <tr>\n",
       "    <td>Random Generator</td>\n",
       "    <td>4 functions </td>\n",
       "    <td>Determining the probability of occurance within arrays</td>\n",
       "  </tr>\n",
       "</table>\n"
      ],
      "text/plain": [
       "<IPython.core.display.HTML object>"
      ]
     },
     "metadata": {},
     "output_type": "display_data"
    }
   ],
   "source": [
    "%%html\n",
    "<table>\n",
    "  <tr>\n",
    "    <th>Sections </th>\n",
    "    <th>No of Functions </th>\n",
    "    <th>Brief Descriptions </th>\n",
    "  </tr>\n",
    "  <tr>\n",
    "    <td >Random Sample Data </td>\n",
    "    <td>10 functions</td>\n",
    "    <td>Random data computations on specified arrays</td>\n",
    "  </tr>\n",
    "  <tr>\n",
    "    <td>Permutations</td>\n",
    "    <td>2 functions</td>\n",
    "    <td>Alters the sequence of generated outputs within arrays</td>\n",
    "  </tr>\n",
    "  <tr>\n",
    "    <td>Distributions</td>\n",
    "    <td>35 functions</td>\n",
    "    <td>Determines the occurance of variables accross defined parameters within arrays</td>\n",
    "  </tr>\n",
    "  <tr>\n",
    "    <td>Random Generator</td>\n",
    "    <td>4 functions </td>\n",
    "    <td>Determining the probability of occurance within arrays</td>\n",
    "  </tr>\n",
    "</table>"
   ]
  },
  {
   "cell_type": "markdown",
   "metadata": {},
   "source": [
    "<a href=\"#top\"><img style=\"float: right; width:50px;height:50px;\" src=\"https://cdn.pixabay.com/photo/2016/09/05/10/50/app-1646212_1280.png\" alt=\"Back To Top\"></a>"
   ]
  },
  {
   "cell_type": "markdown",
   "metadata": {},
   "source": []
  },
  {
   "cell_type": "markdown",
   "metadata": {},
   "source": []
  }
 ],
 "metadata": {
  "kernelspec": {
   "display_name": "Python 3",
   "language": "python",
   "name": "python3"
  },
  "language_info": {
   "codemirror_mode": {
    "name": "ipython",
    "version": 3
   },
   "file_extension": ".py",
   "mimetype": "text/x-python",
   "name": "python",
   "nbconvert_exporter": "python",
   "pygments_lexer": "ipython3",
   "version": "3.7.4"
  }
 },
 "nbformat": 4,
 "nbformat_minor": 2
}
