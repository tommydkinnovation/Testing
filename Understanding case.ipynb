{
 "cells": [
  {
   "cell_type": "markdown",
   "metadata": {},
   "source": [
    "# A Real World case"
   ]
  },
  {
   "cell_type": "markdown",
   "metadata": {},
   "source": [
    "![ferrisWheel](https://raw.githubusercontent.com/tommydkinnovation/numpy-random/master/img/ferrisWheel.gif \"Ferris Wheel\")"
   ]
  },
  {
   "cell_type": "code",
   "execution_count": 7,
   "metadata": {},
   "outputs": [
    {
     "name": "stdout",
     "output_type": "stream",
     "text": [
      "/bin/sh: -c: line 0: syntax error near unexpected token `img/ferrisWheelNew.gif'\r\n",
      "/bin/sh: -c: line 0: `[ferrisWheel2](img/ferrisWheelNew.gif)'\r\n"
     ]
    }
   ],
   "source": [
    "![ferrisWheel2](img/ferrisWheelNew.gif)"
   ]
  },
  {
   "cell_type": "code",
   "execution_count": null,
   "metadata": {},
   "outputs": [],
   "source": []
  }
 ],
 "metadata": {
  "kernelspec": {
   "display_name": "Python 3",
   "language": "python",
   "name": "python3"
  },
  "language_info": {
   "codemirror_mode": {
    "name": "ipython",
    "version": 3
   },
   "file_extension": ".py",
   "mimetype": "text/x-python",
   "name": "python",
   "nbconvert_exporter": "python",
   "pygments_lexer": "ipython3",
   "version": "3.7.4"
  }
 },
 "nbformat": 4,
 "nbformat_minor": 2
}
