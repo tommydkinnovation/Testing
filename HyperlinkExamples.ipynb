{
 "cells": [
  {
   "cell_type": "markdown",
   "metadata": {},
   "source": [
    "<a name=\"top\"></a>\n",
    "# Introduction to Hyperlinks"
   ]
  },
  {
   "cell_type": "markdown",
   "metadata": {},
   "source": [
    "## Table of Content\n",
    "\n",
    "[Section 1 - Internal Hyperlinks](#section1) <br>\n",
    "[Section 2 - Making a Hyperlink to a Website](#section2) <br>\n",
    "[Section 3 - Making an Image Hyperlinked to a Website](#section2) <br>\n",
    "[Section 4 - Hyperlink Back to the Top](#section3) <br>"
   ]
  },
  {
   "cell_type": "markdown",
   "metadata": {},
   "source": [
    "# Introduction"
   ]
  },
  {
   "cell_type": "markdown",
   "metadata": {},
   "source": [
    "Lorem ipsum dolor sit amet, sale ceteros ut usu, accusam insolens tincidunt ea nam. Latine omittam mea an, mel te consul constituam scribentur. Usu at etiam pertinax. Partiendo disputando ei duo. Mea vitae laboramus assentior et, in quando reprimique sed. Cum ex clita disputando definitiones, et sea menandri suscipiantur signiferumque. In solum inermis principes vix, in sea vocibus voluptua.\n",
    "\n",
    "Te eum novum posidonium, et melius animal liberavisse vix, eum quot salutatus no. No mei fierent incorrupte, zril gubergren consequuntur ad vix, nec ut sale tractatos interpretaris. Quo ad noluisse intellegebat. Ne est probo repudiare, posse invenire consequat te mea. Ius altera constituto cu, vim nihil facilis molestie no, nam at labore ullamcorper.\n",
    "\n",
    "Cu vis exerci veritus, pri ne ullum labores alienum, eros graeco mel ex. Tota justo perfecto sed ea, ei tation ullamcorper his, et legere invidunt repudiare est. Cum an nonumy ullamcorper, erat tation fabellas no quo, tale dicam ubique est at. Vis iusto dolore efficiantur ei, agam comprehensam ex has, in pri alia stet.\n",
    "\n",
    "Eum aperiri referrentur eu, clita tibique at has, ut partem conclusionemque eum. Quas copiosae qualisque ex has. Dicam verterem lobortis per et, eum te scriptorem neglegentur suscipiantur. Sed quidam debitis petentium ut, cu quod theophrastus vel. Ad nisl eius constituam vim, labitur sapientem ei nam. Vel natum eruditi forensibus no, usu urbanitas intellegam ullamcorper cu.\n",
    "\n",
    "Eu eam primis possim. An mel veritus antiopam. Liber mentitum contentiones sit ea, id assum altera eligendi ius. Sed quidam pertinacia in, vivendo dissentiet cum ne.Lorem ipsum dolor sit amet, sale ceteros ut usu, accusam insolens tincidunt ea nam. Latine omittam mea an, mel te consul constituam scribentur. Usu at etiam pertinax. Partiendo disputando ei duo. Mea vitae laboramus assentior et, in quando reprimique sed. Cum ex clita disputando definitiones, et sea menandri suscipiantur signiferumque. In solum inermis principes vix, in sea vocibus voluptua.\n",
    "\n",
    "Te eum novum posidonium, et melius animal liberavisse vix, eum quot salutatus no. No mei fierent incorrupte, zril gubergren consequuntur ad vix, nec ut sale tractatos interpretaris. Quo ad noluisse intellegebat. Ne est probo repudiare, posse invenire consequat te mea. Ius altera constituto cu, vim nihil facilis molestie no, nam at labore ullamcorper.\n",
    "\n",
    "Cu vis exerci veritus, pri ne ullum labores alienum, eros graeco mel ex. Tota justo perfecto sed ea, ei tation ullamcorper his, et legere invidunt repudiare est. Cum an nonumy ullamcorper, erat tation fabellas no quo, tale dicam ubique est at. Vis iusto dolore efficiantur ei, agam comprehensam ex has, in pri alia stet.\n",
    "\n",
    "Eum aperiri referrentur eu, clita tibique at has, ut partem conclusionemque eum. Quas copiosae qualisque ex has. Dicam verterem lobortis per et, eum te scriptorem neglegentur suscipiantur. Sed quidam debitis petentium ut, cu quod theophrastus vel. Ad nisl eius constituam vim, labitur sapientem ei nam. Vel natum eruditi forensibus no, usu urbanitas intellegam ullamcorper cu.\n",
    "\n",
    "Eu eam primis possim. An mel veritus antiopam. Liber mentitum contentiones sit ea, id assum altera eligendi ius. Sed quidam pertinacia in, vivendo dissentiet cum ne.Lorem ipsum dolor sit amet, sale ceteros ut usu, accusam insolens tincidunt ea nam. Latine omittam mea an, mel te consul constituam scribentur. Usu at etiam pertinax. Partiendo disputando ei duo. Mea vitae laboramus assentior et, in quando reprimique sed. Cum ex clita disputando definitiones, et sea menandri suscipiantur signiferumque. In solum inermis principes vix, in sea vocibus voluptua.\n",
    "\n",
    "Te eum novum posidonium, et melius animal liberavisse vix, eum quot salutatus no. No mei fierent incorrupte, zril gubergren consequuntur ad vix, nec ut sale tractatos interpretaris. Quo ad noluisse intellegebat. Ne est probo repudiare, posse invenire consequat te mea. Ius altera constituto cu, vim nihil facilis molestie no, nam at labore ullamcorper.\n",
    "\n",
    "Cu vis exerci veritus, pri ne ullum labores alienum, eros graeco mel ex. Tota justo perfecto sed ea, ei tation ullamcorper his, et legere invidunt repudiare est. Cum an nonumy ullamcorper, erat tation fabellas no quo, tale dicam ubique est at. Vis iusto dolore efficiantur ei, agam comprehensam ex has, in pri alia stet.\n",
    "\n",
    "Eum aperiri referrentur eu, clita tibique at has, ut partem conclusionemque eum. Quas copiosae qualisque ex has. Dicam verterem lobortis per et, eum te scriptorem neglegentur suscipiantur. Sed quidam debitis petentium ut, cu quod theophrastus vel. Ad nisl eius constituam vim, labitur sapientem ei nam. Vel natum eruditi forensibus no, usu urbanitas intellegam ullamcorper cu.\n",
    "\n",
    "Eu eam primis possim. An mel veritus antiopam. Liber mentitum contentiones sit ea, id assum altera eligendi ius. Sed quidam pertinacia in, vivendo dissentiet cum ne.Lorem ipsum dolor sit amet, sale ceteros ut usu, accusam insolens tincidunt ea nam. Latine omittam mea an, mel te consul constituam scribentur. Usu at etiam pertinax. Partiendo disputando ei duo. Mea vitae laboramus assentior et, in quando reprimique sed. Cum ex clita disputando definitiones, et sea menandri suscipiantur signiferumque. In solum inermis principes vix, in sea vocibus voluptua.\n",
    "\n",
    "Te eum novum posidonium, et melius animal liberavisse vix, eum quot salutatus no. No mei fierent incorrupte, zril gubergren consequuntur ad vix, nec ut sale tractatos interpretaris. Quo ad noluisse intellegebat. Ne est probo repudiare, posse invenire consequat te mea. Ius altera constituto cu, vim nihil facilis molestie no, nam at labore ullamcorper.\n",
    "\n",
    "Cu vis exerci veritus, pri ne ullum labores alienum, eros graeco mel ex. Tota justo perfecto sed ea, ei tation ullamcorper his, et legere invidunt repudiare est. Cum an nonumy ullamcorper, erat tation fabellas no quo, tale dicam ubique est at. Vis iusto dolore efficiantur ei, agam comprehensam ex has, in pri alia stet.\n",
    "\n",
    "Eum aperiri referrentur eu, clita tibique at has, ut partem conclusionemque eum. Quas copiosae qualisque ex has. Dicam verterem lobortis per et, eum te scriptorem neglegentur suscipiantur. Sed quidam debitis petentium ut, cu quod theophrastus vel. Ad nisl eius constituam vim, labitur sapientem ei nam. Vel natum eruditi forensibus no, usu urbanitas intellegam ullamcorper cu.\n",
    "\n",
    "Eu eam primis possim. An mel veritus antiopam. Liber mentitum contentiones sit ea, id assum altera eligendi ius. Sed quidam pertinacia in, vivendo dissentiet cum ne.Lorem ipsum dolor sit amet, sale ceteros ut usu, accusam insolens tincidunt ea nam. Latine omittam mea an, mel te consul constituam scribentur. Usu at etiam pertinax. Partiendo disputando ei duo. Mea vitae laboramus assentior et, in quando reprimique sed. Cum ex clita disputando definitiones, et sea menandri suscipiantur signiferumque. In solum inermis principes vix, in sea vocibus voluptua.\n",
    "\n",
    "Te eum novum posidonium, et melius animal liberavisse vix, eum quot salutatus no. No mei fierent incorrupte, zril gubergren consequuntur ad vix, nec ut sale tractatos interpretaris. Quo ad noluisse intellegebat. Ne est probo repudiare, posse invenire consequat te mea. Ius altera constituto cu, vim nihil facilis molestie no, nam at labore ullamcorper.\n",
    "\n",
    "Cu vis exerci veritus, pri ne ullum labores alienum, eros graeco mel ex. Tota justo perfecto sed ea, ei tation ullamcorper his, et legere invidunt repudiare est. Cum an nonumy ullamcorper, erat tation fabellas no quo, tale dicam ubique est at. Vis iusto dolore efficiantur ei, agam comprehensam ex has, in pri alia stet.\n",
    "\n",
    "Eum aperiri referrentur eu, clita tibique at has, ut partem conclusionemque eum. Quas copiosae qualisque ex has. Dicam verterem lobortis per et, eum te scriptorem neglegentur suscipiantur. Sed quidam debitis petentium ut, cu quod theophrastus vel. Ad nisl eius constituam vim, labitur sapientem ei nam. Vel natum eruditi forensibus no, usu urbanitas intellegam ullamcorper cu.\n",
    "\n",
    "Eu eam primis possim. An mel veritus antiopam. Liber mentitum contentiones sit ea, id assum altera eligendi ius. Sed quidam pertinacia in, vivendo dissentiet cum ne.Lorem ipsum dolor sit amet, sale ceteros ut usu, accusam insolens tincidunt ea nam. Latine omittam mea an, mel te consul constituam scribentur. Usu at etiam pertinax. Partiendo disputando ei duo. Mea vitae laboramus assentior et, in quando reprimique sed. Cum ex clita disputando definitiones, et sea menandri suscipiantur signiferumque. In solum inermis principes vix, in sea vocibus voluptua.\n",
    "\n",
    "Te eum novum posidonium, et melius animal liberavisse vix, eum quot salutatus no. No mei fierent incorrupte, zril gubergren consequuntur ad vix, nec ut sale tractatos interpretaris. Quo ad noluisse intellegebat. Ne est probo repudiare, posse invenire consequat te mea. Ius altera constituto cu, vim nihil facilis molestie no, nam at labore ullamcorper.\n",
    "\n",
    "Cu vis exerci veritus, pri ne ullum labores alienum, eros graeco mel ex. Tota justo perfecto sed ea, ei tation ullamcorper his, et legere invidunt repudiare est. Cum an nonumy ullamcorper, erat tation fabellas no quo, tale dicam ubique est at. Vis iusto dolore efficiantur ei, agam comprehensam ex has, in pri alia stet.\n",
    "\n",
    "Eum aperiri referrentur eu, clita tibique at has, ut partem conclusionemque eum. Quas copiosae qualisque ex has. Dicam verterem lobortis per et, eum te scriptorem neglegentur suscipiantur. Sed quidam debitis petentium ut, cu quod theophrastus vel. Ad nisl eius constituam vim, labitur sapientem ei nam. Vel natum eruditi forensibus no, usu urbanitas intellegam ullamcorper cu.\n",
    "\n",
    "Eu eam primis possim. An mel veritus antiopam. Liber mentitum contentiones sit ea, id assum altera eligendi ius. Sed quidam pertinacia in, vivendo dissentiet cum ne."
   ]
  },
  {
   "cell_type": "markdown",
   "metadata": {},
   "source": [
    "<a id='section1'></a>\n",
    "\n",
    "## SECTION 1 - Internal Hyperlinks\n",
    "#The two components to create an internal link: <br>\n",
    "So, how does it work? Basically, all you need are those two components:<br>\n",
    "<br>\n",
    "1. the destination <br>\n",
    "2. an internal hyperlink to the destination"
   ]
  },
  {
   "cell_type": "markdown",
   "metadata": {},
   "source": [
    "### The destination\n",
    "To define the destination (i.e., the section on the page or the cell you want to jump to), you just need to insert an empty HTML anchor tag and give it an id,<br>\n",
    "e.g., <a id='the_destination'></a><br>\n",
    "<br>\n",
    "This anchor tag will be invisible if you render it as Markdown in the IPython Notebook.<br>\n",
    "Note that it would also work if we use the name attribute instead of id, but since the name attribute is not supported by HTML5 anymore, I would suggest to just <br>\n",
    "use the id attribute, which is also shorter to type."
   ]
  },
  {
   "cell_type": "code",
   "execution_count": null,
   "metadata": {},
   "outputs": [],
   "source": [
    "[Section 1 - Internal Hyperlinks](#section1)"
   ]
  },
  {
   "cell_type": "markdown",
   "metadata": {},
   "source": [
    "### An internal hyperlink to the destination\n",
    "Now we have to create the hyperlink to the <a id='the_destination'></a> anchor tag that we just created. We can either do this in ye goode olde HTML where we put a <br>\n",
    "fragment identifier in form of a hash mark (#) in front of the name, for example,"
   ]
  },
  {
   "cell_type": "code",
   "execution_count": null,
   "metadata": {},
   "outputs": [],
   "source": [
    "<a href='#the_destination'>Link to the destination'</a>"
   ]
  },
  {
   "cell_type": "markdown",
   "metadata": {},
   "source": [
    "Or alternatively, we can just use the slightly more connvenient Markdown syntax: "
   ]
  },
  {
   "cell_type": "code",
   "execution_count": null,
   "metadata": {},
   "outputs": [],
   "source": [
    "[Link to the destination](#the_destination)\n",
    "<a id='section2'></a>\n",
    "###Section 2\n",
    "some text ..."
   ]
  },
  {
   "cell_type": "markdown",
   "metadata": {},
   "source": [
    "<a href=\"#top\"><img style=\"float: right; width:50px;height:50px;\" src=\"https://cdn.pixabay.com/photo/2016/09/05/10/50/app-1646212_1280.png\" alt=\"Back To Top\"></a>"
   ]
  },
  {
   "cell_type": "markdown",
   "metadata": {},
   "source": [
    "<a id='section2'></a>\n",
    "## SECTION 2 - Making a Hyperlink to a Website\n",
    "You simple just have to add [](). <br>\n",
    "Inside the [] you will write your text and in the () you will write the URL."
   ]
  },
  {
   "cell_type": "markdown",
   "metadata": {},
   "source": [
    "[References to the big book](https://sebastianraschka.com/Articles/2014_ipython_internal_links.html) <br>\n",
    "<a href=\"#top\"><img style=\"float: right; width:50px;height:50px;\" src=\"https://cdn.pixabay.com/photo/2016/09/05/10/50/app-1646212_1280.png\" alt=\"Back To Top\"></a>"
   ]
  },
  {
   "cell_type": "markdown",
   "metadata": {},
   "source": [
    "<a id='section3'></a>\n",
    "\n",
    "## SECTION 3 - Making an Image Hyperlinked to a Website\n",
    "[![title](img/gmit_logo.png)\n",
    "](https://student.gmit.ie/)\n",
    "\n",
    "The code used to do this is: <br>\n",
    "[![title](folder/image_file) <br>\n",
    "](URL address)<br>\n",
    "<a href=\"#top\"><img style=\"float: right; width:50px;height:50px;\" src=\"https://cdn.pixabay.com/photo/2016/09/05/10/50/app-1646212_1280.png\" alt=\"Back To Top\"></a>"
   ]
  },
  {
   "cell_type": "markdown",
   "metadata": {},
   "source": [
    "<a id='section4'></a>\n",
    "\n",
    "## SECTION 4 - Hyperlink Back to the Top\n",
    "--Some Text-- <br>\n",
    "<a href=\"#top\"><img style=\"float: right; width:50px;height:50px;\" src=\"https://cdn.pixabay.com/photo/2016/09/05/10/50/app-1646212_1280.png\" alt=\"Back To Top\"></a>"
   ]
  },
  {
   "cell_type": "markdown",
   "metadata": {},
   "source": []
  },
  {
   "cell_type": "markdown",
   "metadata": {},
   "source": [
    "|Sections |No of Functions |Brief Descriptions |\n",
    "|:-:|:-:|:-:|\n",
    "Random Sample Data | 10 functions |Random data computations on specified arrays\n",
    "Permutations | 2 functions | Alters the sequence of generated outputs within arrays\n",
    "Distributions |35 functions |Determines the occurance of variables accross defined parameters within arrays\n",
    "Random Generator | 4 functions | Determining the probability of occurance within arrays"
   ]
  },
  {
   "cell_type": "markdown",
   "metadata": {},
   "source": [
    "|Sections |No of Functions |Brief Descriptions |\n",
    "| :-| :-| :-\n",
    "|Random Sample Data | 10 functions |Random data computations on specified arrays\n",
    "|Permutations | 2 functions | Alters the sequence of generated outputs within arrays\n",
    "|Distributions |35 functions |Determines the occurance of variables accross defined parameters within arrays\n",
    "|Random Generator | 4 functions | Determining the probability of occurance within arrays"
   ]
  },
  {
   "cell_type": "markdown",
   "metadata": {},
   "source": [
    "| Name | Description | age         \n",
    "| -: | -:| -:\n",
    "|Mary| She is a nice girl.  | 20\n",
    "|Jackie Junior | He is a very naughty boy. | 5"
   ]
  },
  {
   "cell_type": "code",
   "execution_count": 1,
   "metadata": {},
   "outputs": [
    {
     "data": {
      "text/html": [
       "<style>\n",
       "table {float:left}\n",
       "</style>\n",
       "| Name | Description | age         \n",
       "| -| -| -\n",
       "|Mary| She is a nice girl.  | 20\n",
       "|Jackie Junior | He is a very naughty boy. | 5\n"
      ],
      "text/plain": [
       "<IPython.core.display.HTML object>"
      ]
     },
     "metadata": {},
     "output_type": "display_data"
    }
   ],
   "source": [
    "%%html\n",
    "<style>\n",
    "table {float:left}\n",
    "</style>\n",
    "| Name | Description | age         \n",
    "| -| -| -\n",
    "|Mary| She is a nice girl.  | 20\n",
    "|Jackie Junior | He is a very naughty boy. | 5"
   ]
  },
  {
   "cell_type": "code",
   "execution_count": 17,
   "metadata": {},
   "outputs": [
    {
     "data": {
      "text/html": [
       "<table>\n",
       "  <tr>\n",
       "    <th>Month</th>\n",
       "    <th>Savings</th>\n",
       "  </tr>\n",
       "  <tr>\n",
       "    <td>January</td>\n",
       "    <td>$100</td>\n",
       "  </tr>\n",
       "  <tr>\n",
       "    <td>February</td>\n",
       "    <td>$80</td>\n",
       "  </tr>\n",
       "</table>\n"
      ],
      "text/plain": [
       "<IPython.core.display.HTML object>"
      ]
     },
     "metadata": {},
     "output_type": "display_data"
    }
   ],
   "source": [
    "%%html\n",
    "<table>\n",
    "  <tr>\n",
    "    <th>Month</th>\n",
    "    <th>Savings</th>\n",
    "  </tr>\n",
    "  <tr>\n",
    "    <td>January</td>\n",
    "    <td>$100</td>\n",
    "  </tr>\n",
    "  <tr>\n",
    "    <td>February</td>\n",
    "    <td>$80</td>\n",
    "  </tr>\n",
    "</table>"
   ]
  },
  {
   "cell_type": "code",
   "execution_count": null,
   "metadata": {},
   "outputs": [],
   "source": []
  }
 ],
 "metadata": {
  "kernelspec": {
   "display_name": "Python 3",
   "language": "python",
   "name": "python3"
  },
  "language_info": {
   "codemirror_mode": {
    "name": "ipython",
    "version": 3
   },
   "file_extension": ".py",
   "mimetype": "text/x-python",
   "name": "python",
   "nbconvert_exporter": "python",
   "pygments_lexer": "ipython3",
   "version": "3.7.4"
  }
 },
 "nbformat": 4,
 "nbformat_minor": 4
}
